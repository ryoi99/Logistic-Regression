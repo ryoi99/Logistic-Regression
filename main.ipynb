{
 "cells": [
  {
   "cell_type": "markdown",
   "id": "59f45038-baef-437f-94e6-2ccb4bf33d97",
   "metadata": {},
   "source": [
    "# ロジスティック回帰"
   ]
  },
  {
   "cell_type": "code",
   "execution_count": 1,
   "id": "65572543-7669-4a11-aa84-2e2487cfab9f",
   "metadata": {
    "tags": []
   },
   "outputs": [],
   "source": [
    "import numpy as np\n",
    "import pandas as pd\n",
    "import matplotlib.pyplot as plt\n",
    "%matplotlib inline"
   ]
  },
  {
   "cell_type": "markdown",
   "id": "c42cb4e4-1386-4f8b-b955-febc382c6107",
   "metadata": {},
   "source": [
    "# 【問題1】～【問題5】"
   ]
  },
  {
   "cell_type": "code",
   "execution_count": 2,
   "id": "4ce83cd2-c3b8-4c89-ac60-c131f56215da",
   "metadata": {
    "tags": []
   },
   "outputs": [],
   "source": [
    "class ScratchLogisticRegression():\n",
    "    \"\"\"\n",
    "    ロジスティック回帰のスクラッチ実装\n",
    "\n",
    "    Parameters\n",
    "    ----------\n",
    "    num_iter : int\n",
    "      イテレーション数\n",
    "    lr : float\n",
    "      学習率\n",
    "    no_bias : bool\n",
    "      バイアス項を入れない場合はTrue\n",
    "    verbose : bool\n",
    "      学習過程を出力する場合はTrue\n",
    "\n",
    "    Attributes\n",
    "    ----------\n",
    "    self.coef_ : 次の形のndarray, shape (n_features,)\n",
    "      パラメータ\n",
    "    self.loss : 次の形のndarray, shape (self.iter,)\n",
    "      訓練データに対する損失の記録\n",
    "    self.val_loss : 次の形のndarray, shape (self.iter,)\n",
    "      検証データに対する損失の記録\n",
    "\n",
    "    \"\"\"\n",
    "\n",
    "    def __init__(self, num_iter, lr, bias, verbose, lam):\n",
    "        # ハイパーパラメータを属性として記録\n",
    "        self.iter = num_iter\n",
    "        self.lr = lr\n",
    "        self.bias = bias\n",
    "        self.verbose = verbose\n",
    "        self.lam = lam\n",
    "        # 損失を記録する配列を用意\n",
    "        self.loss = np.zeros(self.iter)\n",
    "        self.val_loss = np.zeros(self.iter)\n",
    "\n",
    "    # 【問題1】仮定関数\n",
    "    def _sigmoid(self, y):\n",
    "        return 1 / (1 + np.exp(-y))\n",
    "\n",
    "    def _logistic_hypothesis(self, X):\n",
    "        pred = X @ self.theta\n",
    "        pred = self._sigmoid(pred)\n",
    "        return pred\n",
    "    \n",
    "    # 【問題2】最急降下法\n",
    "    def _gradient_descent(self, X, y):\n",
    "        m = X.shape[0]\n",
    "        n = X.shape[1]\n",
    "        pred = self._logistic_hypothesis(X)\n",
    "        for j in range(n):\n",
    "            gradient = 0\n",
    "            for i in range(m):\n",
    "                gradient += (pred[i] - y[i]) * X[i, j]\n",
    "            if self.bias and j == 0:\n",
    "                self.theta[j] = self.theta[j] - self.lr * (gradient / m)\n",
    "            else:\n",
    "                self.theta[j] = self.theta[j] - self.lr * ((gradient + self.lam * self.theta[j]) / m)\n",
    "    \n",
    "    # 【問題4】目的関数\n",
    "    def _loss_func(self, pred, y):\n",
    "        error = 0\n",
    "        for i in range(y.shape[0]):\n",
    "            error += - np.sum(y[i] * np.log(pred[i]) + (1-y[i]) * np.log(1-pred[i]))\n",
    "        loss = error / (y.shape[0])\n",
    "        loss += np.sum(self.theta[self.bias:]**2) * self.lam / (2 * y.shape[0]) # 正則化項にバイアスは含めない\n",
    "        return loss\n",
    "    \n",
    "    # 【問題5】学習と推定\n",
    "    def fit(self, X, y, X_val, y_val):\n",
    "        \"\"\"\n",
    "        ロジスティック回帰を学習する。検証データが入力された場合はそれに対する損失と精度もイテレーションごとに計算する。\n",
    "\n",
    "        Parameters\n",
    "        ----------\n",
    "        X : 次の形のndarray, shape (n_samples, n_features)\n",
    "            訓練データの特徴量\n",
    "        y : 次の形のndarray, shape (n_samples, )\n",
    "            訓練データの正解値\n",
    "        X_val : 次の形のndarray, shape (n_samples, n_features)\n",
    "            検証データの特徴量\n",
    "        y_val : 次の形のndarray, shape (n_samples, )\n",
    "            検証データの正解値\n",
    "        \"\"\"\n",
    "        \n",
    "        # バイアス項を追加\n",
    "        if self.bias:\n",
    "            bias = np.ones((X.shape[0], 1))\n",
    "            X = np.hstack((bias, X))\n",
    "            bias = np.ones((X_val.shape[0], 1))\n",
    "            X_val = np.hstack((bias, X_val))\n",
    "        \n",
    "        # パラメータを初期化\n",
    "        self.theta = np.zeros(X.shape[1])\n",
    "        \n",
    "        for i in range(self.iter):\n",
    "            # 学習・検証データの損失を計算して保存\n",
    "            pred = self._logistic_hypothesis(X)\n",
    "            pred_val = self._logistic_hypothesis(X_val)\n",
    "            self.loss[i] = self._loss_func(pred, y)\n",
    "            self.val_loss[i] = self._loss_func(pred_val, y_val)\n",
    "            \n",
    "            # パラメータを更新\n",
    "            self._gradient_descent(X, y)\n",
    "            \n",
    "            if self.verbose:\n",
    "                if (i+1) % 50 == 0 or i == 0:\n",
    "                    print(f'[epoch {i+1:4}] loss: {self.loss[i]:<8.4} val_loss: {self.val_loss[i]:.4}')\n",
    "\n",
    "    # 【問題3】推定\n",
    "    def predict(self, X):\n",
    "        \"\"\"\n",
    "        ロジスティック回帰を使いラベルを推定する。\n",
    "\n",
    "        Parameters\n",
    "        ----------\n",
    "        X : 次の形のndarray, shape (n_samples, n_features)\n",
    "            サンプル\n",
    "\n",
    "        Returns\n",
    "        -------\n",
    "            次の形のndarray, shape (n_samples, 1)\n",
    "            ロジスティック回帰による推定結果\n",
    "        \"\"\"\n",
    "        if self.bias:\n",
    "            a = np.ones((X.shape[0], 1))\n",
    "            X = np.hstack([a, X])\n",
    "        return  np.where(self._logistic_hypothesis(X) >= 0.5, 1, 0)\n",
    "\n",
    "    def predict_proba(self, X):\n",
    "        \"\"\"\n",
    "        ロジスティック回帰を使い確率を推定する。\n",
    "\n",
    "        Parameters\n",
    "        ----------\n",
    "        X : 次の形のndarray, shape (n_samples, n_features)\n",
    "            サンプル\n",
    "\n",
    "        Returns\n",
    "        -------\n",
    "            次の形のndarray, shape (n_samples, 1)\n",
    "            ロジスティック回帰による推定結果\n",
    "        \"\"\"\n",
    "        if self.bias:\n",
    "            a = np.ones((X.shape[0], 1))\n",
    "            X = np.hstack([a, X])\n",
    "        return self._logistic_hypothesis(X)\n"
   ]
  },
  {
   "cell_type": "markdown",
   "id": "c5ad1082-d215-40c2-a98d-e5c925ec5bde",
   "metadata": {
    "tags": []
   },
   "source": [
    "## 【問題5】学習と推定"
   ]
  },
  {
   "cell_type": "code",
   "execution_count": 3,
   "id": "26b388ec-1d02-45ba-a3b3-c763f8f23d35",
   "metadata": {
    "tags": []
   },
   "outputs": [],
   "source": [
    "from sklearn.datasets import load_iris\n",
    "from sklearn.model_selection import train_test_split\n",
    "\n",
    "iris = load_iris()\n",
    "X = iris.data[:100,:]\n",
    "y = iris.target[:100]\n",
    "(X_train, X_test, y_train, y_test) = train_test_split(X, y, test_size=0.2, random_state=10)"
   ]
  },
  {
   "cell_type": "code",
   "execution_count": 4,
   "id": "09133c1c-425b-4060-a218-856f2184bcc6",
   "metadata": {
    "tags": []
   },
   "outputs": [
    {
     "name": "stdout",
     "output_type": "stream",
     "text": [
      "[epoch    1] loss: 0.6931   val_loss: 0.6931\n",
      "[epoch   50] loss: 0.5043   val_loss: 0.5244\n",
      "[epoch  100] loss: 0.3887   val_loss: 0.4089\n",
      "[epoch  150] loss: 0.3122   val_loss: 0.3323\n",
      "[epoch  200] loss: 0.2591   val_loss: 0.279\n",
      "[epoch  250] loss: 0.2208   val_loss: 0.2403\n",
      "[epoch  300] loss: 0.192    val_loss: 0.2112\n",
      "[epoch  350] loss: 0.1697   val_loss: 0.1887\n",
      "[epoch  400] loss: 0.152    val_loss: 0.1708\n",
      "[epoch  450] loss: 0.1377   val_loss: 0.1563\n",
      "[epoch  500] loss: 0.1259   val_loss: 0.1443\n"
     ]
    }
   ],
   "source": [
    "# 学習\n",
    "slr = ScratchLogisticRegression(num_iter=500, lr=0.01, bias=True, verbose=True, lam=0.1)\n",
    "slr.fit(X_train, y_train, X_test, y_test)"
   ]
  },
  {
   "cell_type": "code",
   "execution_count": 5,
   "id": "2b14181e-ed81-41ca-b0ba-f5a971c5fa29",
   "metadata": {
    "tags": []
   },
   "outputs": [
    {
     "name": "stdout",
     "output_type": "stream",
     "text": [
      "--- Logistic Regression ---\n",
      "accuracy:  1.0\n",
      "precision: 1.0\n",
      "recall:    1.0\n",
      "f1:        1.0\n",
      "confusion matrix:\n",
      "[[11  0]\n",
      " [ 0  9]]\n"
     ]
    }
   ],
   "source": [
    "from sklearn import metrics\n",
    "\n",
    "def evaluate(y_true, y_pred, title):\n",
    "    accuracy = metrics.accuracy_score(y_true, y_pred)\n",
    "    precision = metrics.precision_score(y_true, y_pred)\n",
    "    recall = metrics.recall_score(y_true, y_pred)\n",
    "    f1 = metrics.f1_score(y_true, y_pred)\n",
    "    confusion = metrics.confusion_matrix(y_true, y_pred)\n",
    "    \n",
    "    print(    \n",
    "        f'--- {title} ---',\n",
    "        f'accuracy:  {accuracy}',\n",
    "        f'precision: {precision}',\n",
    "        f'recall:    {recall}',\n",
    "        f'f1:        {f1}',\n",
    "        f'confusion matrix:\\n{confusion}',\n",
    "        sep='\\n'\n",
    "    )\n",
    "\n",
    "# 予測\n",
    "pred = slr.predict(X_test)\n",
    "evaluate(y_test, pred, 'Logistic Regression')"
   ]
  },
  {
   "cell_type": "markdown",
   "id": "34cf1098-d476-4c97-9126-f0167166ad92",
   "metadata": {},
   "source": [
    "## 【問題6】学習曲線のプロット"
   ]
  },
  {
   "cell_type": "code",
   "execution_count": 6,
   "id": "c1ea4800-c751-4608-9679-37bfe0b5cbdb",
   "metadata": {
    "tags": []
   },
   "outputs": [
    {
     "data": {
      "image/png": "[encoded data removed]",
      "text/plain": [
       "<Figure size 640x480 with 1 Axes>"
      ]
     },
     "metadata": {},
     "output_type": "display_data"
    }
   ],
   "source": [
    "plt.plot(slr.loss, label='TRAIN')\n",
    "plt.plot(slr.val_loss, label='VARID')\n",
    "plt.legend()\n",
    "plt.show()"
   ]
  },
  {
   "cell_type": "markdown",
   "id": "3321f71c-f65a-4b4e-9124-3766aa42e098",
   "metadata": {
    "tags": []
   },
   "source": [
    "## 【問題7】決定領域の可視化"
   ]
  },
  {
   "cell_type": "code",
   "execution_count": 7,
   "id": "dd6ba7a7-52b0-41dd-9a52-c163792be6a0",
   "metadata": {
    "tags": []
   },
   "outputs": [
    {
     "name": "stdout",
     "output_type": "stream",
     "text": [
      "[epoch    1] loss: 0.6931   val_loss: 0.6931\n",
      "[epoch   50] loss: 0.6897   val_loss: 0.6896\n",
      "[epoch  100] loss: 0.6863   val_loss: 0.6863\n",
      "[epoch  150] loss: 0.6829   val_loss: 0.683\n",
      "[epoch  200] loss: 0.6795   val_loss: 0.6799\n",
      "[epoch  250] loss: 0.6761   val_loss: 0.6769\n",
      "[epoch  300] loss: 0.6728   val_loss: 0.6738\n",
      "[epoch  350] loss: 0.6695   val_loss: 0.6709\n",
      "[epoch  400] loss: 0.6662   val_loss: 0.6679\n",
      "[epoch  450] loss: 0.663    val_loss: 0.665\n",
      "[epoch  500] loss: 0.6598   val_loss: 0.6622\n",
      "[epoch  550] loss: 0.6566   val_loss: 0.6593\n",
      "[epoch  600] loss: 0.6534   val_loss: 0.6565\n",
      "[epoch  650] loss: 0.6503   val_loss: 0.6537\n",
      "[epoch  700] loss: 0.6472   val_loss: 0.6509\n",
      "[epoch  750] loss: 0.6441   val_loss: 0.6482\n",
      "[epoch  800] loss: 0.6411   val_loss: 0.6454\n",
      "[epoch  850] loss: 0.638    val_loss: 0.6427\n",
      "[epoch  900] loss: 0.635    val_loss: 0.64\n",
      "[epoch  950] loss: 0.632    val_loss: 0.6374\n",
      "[epoch 1000] loss: 0.6291   val_loss: 0.6348\n",
      "[epoch 1050] loss: 0.6262   val_loss: 0.6321\n",
      "[epoch 1100] loss: 0.6233   val_loss: 0.6295\n",
      "[epoch 1150] loss: 0.6204   val_loss: 0.627\n",
      "[epoch 1200] loss: 0.6175   val_loss: 0.6244\n",
      "[epoch 1250] loss: 0.6147   val_loss: 0.6219\n",
      "[epoch 1300] loss: 0.6119   val_loss: 0.6194\n",
      "[epoch 1350] loss: 0.6091   val_loss: 0.6169\n",
      "[epoch 1400] loss: 0.6063   val_loss: 0.6144\n",
      "[epoch 1450] loss: 0.6036   val_loss: 0.612\n",
      "[epoch 1500] loss: 0.6009   val_loss: 0.6096\n",
      "[epoch 1550] loss: 0.5982   val_loss: 0.6072\n",
      "[epoch 1600] loss: 0.5955   val_loss: 0.6048\n",
      "[epoch 1650] loss: 0.5929   val_loss: 0.6024\n",
      "[epoch 1700] loss: 0.5902   val_loss: 0.6001\n",
      "[epoch 1750] loss: 0.5876   val_loss: 0.5978\n",
      "[epoch 1800] loss: 0.585    val_loss: 0.5955\n",
      "[epoch 1850] loss: 0.5825   val_loss: 0.5932\n",
      "[epoch 1900] loss: 0.5799   val_loss: 0.5909\n",
      "[epoch 1950] loss: 0.5774   val_loss: 0.5887\n",
      "[epoch 2000] loss: 0.5749   val_loss: 0.5864\n"
     ]
    },
    {
     "data": {
      "image/png": "[encoded data removed]",
      "text/plain": [
       "<Figure size 640x480 with 1 Axes>"
      ]
     },
     "metadata": {},
     "output_type": "display_data"
    }
   ],
   "source": [
    "from matplotlib.colors import ListedColormap\n",
    "import matplotlib.patches as mpatches\n",
    "\n",
    "def decision_region(X, y, model, step=0.01, title='decision region', xlabel='xlabel', ylabel='ylabel', target_names=['target 1', 'target 2']):\n",
    "    # setting\n",
    "    scatter_color = ['red', 'blue']\n",
    "    contourf_color = ['pink', 'skyblue']\n",
    "    n_class = 2\n",
    "\n",
    "    # pred\n",
    "    mesh_f0, mesh_f1  = np.meshgrid(np.arange(np.min(X[:,0])-0.5, np.max(X[:,0])+0.5, step), np.arange(np.min(X[:,1])-0.5, np.max(X[:,1])+0.5, step))\n",
    "    mesh = np.c_[np.ravel(mesh_f0),np.ravel(mesh_f1)]\n",
    "    y_pred = model.predict(mesh).reshape(mesh_f0.shape)\n",
    "\n",
    "    # plot\n",
    "    plt.title(title)\n",
    "    plt.xlabel(xlabel)\n",
    "    plt.ylabel(ylabel)\n",
    "    plt.contourf(mesh_f0, mesh_f1, y_pred, n_class-1, cmap=ListedColormap(contourf_color))\n",
    "    plt.contour(mesh_f0, mesh_f1, y_pred, n_class-1, colors='y', linewidths=3, alpha=0.5)\n",
    "    for i, target in enumerate(np.unique(y)):\n",
    "        plt.scatter(X[y==target][:, 0], X[y==target][:, 1], s=80, color=scatter_color[i], label=target_names[i], marker='o')\n",
    "    patches = [mpatches.Patch(color=scatter_color[i], label=target_names[i]) for i in range(n_class)]\n",
    "    plt.legend(handles=patches)\n",
    "    plt.legend()\n",
    "    plt.show()\n",
    "\n",
    "X = iris.data[:100,:2]\n",
    "y = iris.target[:100]\n",
    "(X_train, X_test, y_train, y_test) = train_test_split(X, y, test_size=0.2)\n",
    "slr = ScratchLogisticRegression(num_iter=2000, lr=0.001, bias=True, verbose=True, lam=0.1)\n",
    "slr.fit(X_train, y_train,X_test,y_test)\n",
    "\n",
    "decision_region(X, y, slr)"
   ]
  },
  {
   "cell_type": "markdown",
   "id": "260cfa4a-07a3-4bae-afd5-d1529d5cf51f",
   "metadata": {},
   "source": [
    "## 【問題8】（アドバンス課題）重みの保存"
   ]
  },
  {
   "cell_type": "code",
   "execution_count": 8,
   "id": "a8587bc3-c04c-4565-8488-d8eb086a85ee",
   "metadata": {
    "tags": []
   },
   "outputs": [
    {
     "name": "stdout",
     "output_type": "stream",
     "text": [
      "[-0.03050946  0.24537416 -0.41815922]\n",
      "[-0.03050946  0.24537416 -0.41815922]\n"
     ]
    }
   ],
   "source": [
    "print(slr.theta)\n",
    "\n",
    "# 保存\n",
    "np.save('theta', slr.theta)\n",
    "\n",
    "# 読み込み\n",
    "print(np.load('theta.npy'))"
   ]
  }
 ],
 "metadata": {
  "kernelspec": {
   "display_name": "Python 3 (ipykernel)",
   "language": "python",
   "name": "python3"
  },
  "language_info": {
   "codemirror_mode": {
    "name": "ipython",
    "version": 3
   },
   "file_extension": ".py",
   "mimetype": "text/x-python",
   "name": "python",
   "nbconvert_exporter": "python",
   "pygments_lexer": "ipython3",
   "version": "3.10.5"
  }
 },
 "nbformat": 4,
 "nbformat_minor": 5
}
